{
 "cells": [
  {
   "cell_type": "markdown",
   "metadata": {},
   "source": [
    "### main steps of this notebook\n",
    "- loading data and checking it\n",
    "- loading model and training\n",
    "- checking performance of model on validatoin data"
   ]
  },
  {
   "cell_type": "code",
   "execution_count": 1,
   "metadata": {},
   "outputs": [],
   "source": [
    "import pandas as pd\n",
    "import matplotlib.pyplot as plt\n",
    "import numpy as np"
   ]
  },
  {
   "cell_type": "code",
   "execution_count": 2,
   "metadata": {},
   "outputs": [],
   "source": [
    "df_tr = pd.read_csv('df_tr.csv')\n",
    "df_va = pd.read_csv('df_va.csv')"
   ]
  },
  {
   "cell_type": "code",
   "execution_count": 3,
   "metadata": {},
   "outputs": [
    {
     "name": "stdout",
     "output_type": "stream",
     "text": [
      "(3700, 30) (200, 30)\n"
     ]
    }
   ],
   "source": [
    "print(df_tr.shape, df_va.shape)"
   ]
  },
  {
   "cell_type": "markdown",
   "metadata": {},
   "source": [
    "#### drop target variable for training"
   ]
  },
  {
   "cell_type": "code",
   "execution_count": 4,
   "metadata": {},
   "outputs": [],
   "source": [
    "xtr = df_tr.copy()\n",
    "ytr = xtr.classLabel\n",
    "xtr = xtr.drop('classLabel', axis=1)"
   ]
  },
  {
   "cell_type": "code",
   "execution_count": 5,
   "metadata": {},
   "outputs": [],
   "source": [
    "xva = df_va.copy()\n",
    "yva = xva.classLabel\n",
    "xva = xva.drop('classLabel', axis=1)"
   ]
  },
  {
   "cell_type": "code",
   "execution_count": 6,
   "metadata": {},
   "outputs": [
    {
     "name": "stdout",
     "output_type": "stream",
     "text": [
      "(3700, 29) (3700,)\n",
      "(200, 29) (200,)\n"
     ]
    }
   ],
   "source": [
    "#check dimensions\n",
    "print(xtr.shape,ytr.shape)\n",
    "print(xva.shape,yva.shape)"
   ]
  },
  {
   "cell_type": "markdown",
   "metadata": {},
   "source": [
    "#### i expalined why i use auc metric for this problem on the readme on github\n",
    "#### so import it from sklearn"
   ]
  },
  {
   "cell_type": "code",
   "execution_count": 9,
   "metadata": {},
   "outputs": [],
   "source": [
    "from sklearn.metrics import roc_auc_score"
   ]
  },
  {
   "cell_type": "code",
   "execution_count": 10,
   "metadata": {},
   "outputs": [],
   "source": [
    "#utility to print auc on training and validation given model\n",
    "def print_score(m):\n",
    "    print(roc_auc_score(ytr, m.predict(xtr)), roc_auc_score(yva, m.predict(xva)))"
   ]
  },
  {
   "cell_type": "code",
   "execution_count": 14,
   "metadata": {},
   "outputs": [],
   "source": [
    "import lightgbm as lgb"
   ]
  },
  {
   "cell_type": "markdown",
   "metadata": {},
   "source": [
    "#### i found this parameters that give best auc on the validation data  after a lot of trials"
   ]
  },
  {
   "cell_type": "code",
   "execution_count": 84,
   "metadata": {},
   "outputs": [],
   "source": [
    "\n",
    "lgb_params = {\n",
    "               'feature_fraction': 0.62,\n",
    "               'metric': 'auc',\n",
    "               'nthread':3, \n",
    "               'min_data_in_leaf': 2**5, \n",
    "               'bagging_fraction': 0.2, \n",
    "               'learning_rate': 0.02, \n",
    "               'objective': 'binary', \n",
    "               'bagging_seed': 2**7, \n",
    "               'num_leaves': 2**5,\n",
    "               'bagging_freq':1,\n",
    "               'verbose':0,\n",
    "               'lambda_l2':0.9\n",
    "              }"
   ]
  },
  {
   "cell_type": "code",
   "execution_count": 85,
   "metadata": {},
   "outputs": [],
   "source": [
    "lg = lgb.train(lgb_params, lgb.Dataset(xtr.values, label=ytr.values.ravel()), 300)"
   ]
  },
  {
   "cell_type": "markdown",
   "metadata": {},
   "source": [
    "#### i got a training auc: 0.98, validation auc: 0.96"
   ]
  },
  {
   "cell_type": "code",
   "execution_count": 86,
   "metadata": {},
   "outputs": [
    {
     "name": "stdout",
     "output_type": "stream",
     "text": [
      "0.9868955709061358 0.9610089438247412\n"
     ]
    }
   ],
   "source": [
    "print_score(lg)"
   ]
  }
 ],
 "metadata": {
  "kernelspec": {
   "display_name": "Python 3",
   "language": "python",
   "name": "python3"
  },
  "language_info": {
   "codemirror_mode": {
    "name": "ipython",
    "version": 3
   },
   "file_extension": ".py",
   "mimetype": "text/x-python",
   "name": "python",
   "nbconvert_exporter": "python",
   "pygments_lexer": "ipython3",
   "version": "3.6.8"
  }
 },
 "nbformat": 4,
 "nbformat_minor": 2
}
