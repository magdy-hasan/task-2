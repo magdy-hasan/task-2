{
 "cells": [
  {
   "cell_type": "markdown",
   "metadata": {},
   "source": [
    "### Same notebook as train_lgb but using random_forest for training"
   ]
  },
  {
   "cell_type": "code",
   "execution_count": 1,
   "metadata": {},
   "outputs": [],
   "source": [
    "import pandas as pd\n",
    "import matplotlib.pyplot as plt\n",
    "import numpy as np"
   ]
  },
  {
   "cell_type": "code",
   "execution_count": 2,
   "metadata": {},
   "outputs": [],
   "source": [
    "df_tr = pd.read_csv('df_tr.csv')\n",
    "df_va = pd.read_csv('df_va.csv')"
   ]
  },
  {
   "cell_type": "code",
   "execution_count": 3,
   "metadata": {},
   "outputs": [
    {
     "name": "stdout",
     "output_type": "stream",
     "text": [
      "(3700, 30) (200, 30)\n"
     ]
    }
   ],
   "source": [
    "print(df_tr.shape, df_va.shape)"
   ]
  },
  {
   "cell_type": "code",
   "execution_count": 4,
   "metadata": {},
   "outputs": [],
   "source": [
    "from sklearn.ensemble import RandomForestClassifier"
   ]
  },
  {
   "cell_type": "code",
   "execution_count": 5,
   "metadata": {},
   "outputs": [],
   "source": [
    "xtr = df_tr.copy()\n",
    "ytr = xtr.classLabel\n",
    "xtr = xtr.drop('classLabel', axis=1)"
   ]
  },
  {
   "cell_type": "code",
   "execution_count": 6,
   "metadata": {},
   "outputs": [],
   "source": [
    "xva = df_va.copy()\n",
    "yva = xva.classLabel\n",
    "xva = xva.drop('classLabel', axis=1)"
   ]
  },
  {
   "cell_type": "code",
   "execution_count": 7,
   "metadata": {},
   "outputs": [
    {
     "name": "stdout",
     "output_type": "stream",
     "text": [
      "(3700, 29) (3700,)\n",
      "(200, 29) (200,)\n"
     ]
    }
   ],
   "source": [
    "print(xtr.shape,ytr.shape)\n",
    "print(xva.shape,yva.shape)"
   ]
  },
  {
   "cell_type": "code",
   "execution_count": 8,
   "metadata": {},
   "outputs": [
    {
     "name": "stderr",
     "output_type": "stream",
     "text": [
      "/home/magdy/.local/lib/python3.6/site-packages/sklearn/ensemble/forest.py:245: FutureWarning: The default value of n_estimators will change from 10 in version 0.20 to 100 in 0.22.\n",
      "  \"10 in version 0.20 to 100 in 0.22.\", FutureWarning)\n"
     ]
    },
    {
     "data": {
      "text/plain": [
       "RandomForestClassifier(bootstrap=True, class_weight=None, criterion='gini',\n",
       "                       max_depth=None, max_features='auto', max_leaf_nodes=None,\n",
       "                       min_impurity_decrease=0.0, min_impurity_split=None,\n",
       "                       min_samples_leaf=1, min_samples_split=2,\n",
       "                       min_weight_fraction_leaf=0.0, n_estimators=10,\n",
       "                       n_jobs=None, oob_score=False, random_state=None,\n",
       "                       verbose=0, warm_start=False)"
      ]
     },
     "execution_count": 8,
     "metadata": {},
     "output_type": "execute_result"
    }
   ],
   "source": [
    "rf = RandomForestClassifier()\n",
    "rf.fit(xtr,ytr)"
   ]
  },
  {
   "cell_type": "code",
   "execution_count": 9,
   "metadata": {},
   "outputs": [
    {
     "data": {
      "text/plain": [
       "([<matplotlib.axis.XTick at 0x7f12d8838e48>,\n",
       "  <matplotlib.axis.XTick at 0x7f12d8838710>,\n",
       "  <matplotlib.axis.XTick at 0x7f12d8838390>,\n",
       "  <matplotlib.axis.XTick at 0x7f12d60e52b0>,\n",
       "  <matplotlib.axis.XTick at 0x7f12d60e5780>,\n",
       "  <matplotlib.axis.XTick at 0x7f12d60e5c50>,\n",
       "  <matplotlib.axis.XTick at 0x7f12d60e5ef0>,\n",
       "  <matplotlib.axis.XTick at 0x7f12d606b4a8>,\n",
       "  <matplotlib.axis.XTick at 0x7f12d606ba20>,\n",
       "  <matplotlib.axis.XTick at 0x7f12d606be80>,\n",
       "  <matplotlib.axis.XTick at 0x7f12d6075550>,\n",
       "  <matplotlib.axis.XTick at 0x7f12d6075ac8>,\n",
       "  <matplotlib.axis.XTick at 0x7f12d607a0b8>,\n",
       "  <matplotlib.axis.XTick at 0x7f12d607a5f8>,\n",
       "  <matplotlib.axis.XTick at 0x7f12d6075940>,\n",
       "  <matplotlib.axis.XTick at 0x7f12d60e5eb8>,\n",
       "  <matplotlib.axis.XTick at 0x7f12d607abe0>,\n",
       "  <matplotlib.axis.XTick at 0x7f12d6082198>,\n",
       "  <matplotlib.axis.XTick at 0x7f12d6082710>,\n",
       "  <matplotlib.axis.XTick at 0x7f12d6082c88>,\n",
       "  <matplotlib.axis.XTick at 0x7f12d6088240>,\n",
       "  <matplotlib.axis.XTick at 0x7f12d60887b8>,\n",
       "  <matplotlib.axis.XTick at 0x7f12d6088d30>,\n",
       "  <matplotlib.axis.XTick at 0x7f12d60882e8>,\n",
       "  <matplotlib.axis.XTick at 0x7f12d60826d8>,\n",
       "  <matplotlib.axis.XTick at 0x7f12d608f320>,\n",
       "  <matplotlib.axis.XTick at 0x7f12d608f7f0>,\n",
       "  <matplotlib.axis.XTick at 0x7f12d608fd68>,\n",
       "  <matplotlib.axis.XTick at 0x7f12d6096320>],\n",
       " <a list of 29 Text xticklabel objects>)"
      ]
     },
     "execution_count": 9,
     "metadata": {},
     "output_type": "execute_result"
    },
    {
     "data": {
      "image/png": "[encoded data removed]",
      "text/plain": [
       "<Figure size 432x288 with 1 Axes>"
      ]
     },
     "metadata": {},
     "output_type": "display_data"
    }
   ],
   "source": [
    "#plot feature importances\n",
    "plt.plot(rf.feature_importances_)\n",
    "plt.xticks(np.arange(xtr.shape[1]), xtr.columns.to_list(), rotation=90)"
   ]
  },
  {
   "cell_type": "code",
   "execution_count": 10,
   "metadata": {},
   "outputs": [],
   "source": [
    "from sklearn.metrics import roc_auc_score"
   ]
  },
  {
   "cell_type": "code",
   "execution_count": 11,
   "metadata": {},
   "outputs": [],
   "source": [
    "def print_score(m):\n",
    "    print(roc_auc_score(ytr, m.predict(xtr)), roc_auc_score(yva, m.predict(xva)))"
   ]
  },
  {
   "cell_type": "code",
   "execution_count": 23,
   "metadata": {},
   "outputs": [
    {
     "data": {
      "text/plain": [
       "RandomForestClassifier(bootstrap=True, class_weight=None, criterion='gini',\n",
       "                       max_depth=20, max_features='log2', max_leaf_nodes=None,\n",
       "                       min_impurity_decrease=0.0, min_impurity_split=None,\n",
       "                       min_samples_leaf=1, min_samples_split=2,\n",
       "                       min_weight_fraction_leaf=0.0, n_estimators=200,\n",
       "                       n_jobs=None, oob_score=False, random_state=None,\n",
       "                       verbose=0, warm_start=False)"
      ]
     },
     "execution_count": 23,
     "metadata": {},
     "output_type": "execute_result"
    }
   ],
   "source": [
    "rf = RandomForestClassifier(n_estimators=200, max_depth=20, max_features='log2', min_samples_leaf=1)\n",
    "rf.fit(xtr,ytr)"
   ]
  },
  {
   "cell_type": "markdown",
   "metadata": {},
   "source": [
    "#### best score i coult get"
   ]
  },
  {
   "cell_type": "code",
   "execution_count": 24,
   "metadata": {},
   "outputs": [
    {
     "name": "stdout",
     "output_type": "stream",
     "text": [
      "1.0 0.8696110943623756\n"
     ]
    }
   ],
   "source": [
    "print_score(rf)"
   ]
  },
  {
   "cell_type": "code",
   "execution_count": null,
   "metadata": {},
   "outputs": [],
   "source": []
  }
 ],
 "metadata": {
  "kernelspec": {
   "display_name": "Python 3",
   "language": "python",
   "name": "python3"
  },
  "language_info": {
   "codemirror_mode": {
    "name": "ipython",
    "version": 3
   },
   "file_extension": ".py",
   "mimetype": "text/x-python",
   "name": "python",
   "nbconvert_exporter": "python",
   "pygments_lexer": "ipython3",
   "version": "3.6.8"
  }
 },
 "nbformat": 4,
 "nbformat_minor": 2
}
