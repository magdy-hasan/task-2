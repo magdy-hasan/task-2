{
 "cells": [
  {
   "cell_type": "markdown",
   "metadata": {},
   "source": [
    "### Main steps of this notebook:\n",
    "- reading data\n",
    "- dropping unimportant features\n",
    "- checking null values and creating features from them\n",
    "- downcasting some features for efficency\n",
    "- encoding some features using one-hot-encoding\n"
   ]
  },
  {
   "cell_type": "code",
   "execution_count": 1,
   "metadata": {},
   "outputs": [],
   "source": [
    "import numpy as np\n",
    "import pandas as pd\n",
    "import sklearn\n",
    "import matplotlib.pyplot as plt"
   ]
  },
  {
   "cell_type": "code",
   "execution_count": 2,
   "metadata": {},
   "outputs": [],
   "source": [
    "df = pd.read_csv('training.csv', sep=';', low_memory=False)\n",
    "df_va = pd.read_csv('validation.csv', sep=';', low_memory=False)"
   ]
  },
  {
   "cell_type": "code",
   "execution_count": 3,
   "metadata": {},
   "outputs": [
    {
     "name": "stdout",
     "output_type": "stream",
     "text": [
      "(3700, 19)\n",
      "(200, 19)\n"
     ]
    }
   ],
   "source": [
    "print(df.shape)\n",
    "print(df_va.shape)"
   ]
  },
  {
   "cell_type": "markdown",
   "metadata": {},
   "source": [
    "##### merge validation data with training data to apply our processing on both of them, then seperate them when we finish"
   ]
  },
  {
   "cell_type": "code",
   "execution_count": 4,
   "metadata": {},
   "outputs": [],
   "source": [
    "df = df.append(df_va)"
   ]
  },
  {
   "cell_type": "code",
   "execution_count": 5,
   "metadata": {},
   "outputs": [
    {
     "data": {
      "text/plain": [
       "(3900, 19)"
      ]
     },
     "execution_count": 5,
     "metadata": {},
     "output_type": "execute_result"
    }
   ],
   "source": [
    "df.shape"
   ]
  },
  {
   "cell_type": "code",
   "execution_count": 6,
   "metadata": {},
   "outputs": [
    {
     "data": {
      "text/plain": [
       "Index(['variable1', 'variable2', 'variable3', 'variable4', 'variable5',\n",
       "       'variable6', 'variable7', 'variable8', 'variable9', 'variable10',\n",
       "       'variable11', 'variable12', 'variable13', 'variable14', 'variable15',\n",
       "       'variable17', 'variable18', 'variable19', 'classLabel'],\n",
       "      dtype='object')"
      ]
     },
     "execution_count": 6,
     "metadata": {},
     "output_type": "execute_result"
    }
   ],
   "source": [
    "df.columns"
   ]
  },
  {
   "cell_type": "markdown",
   "metadata": {},
   "source": [
    "#### ِAfter doing analysis of the data, i found:\n",
    "- in training data variable19 is same as our target variable so we have to drop it or the model will learn to just predict this variable and perform so bad on validation data\n",
    "- 'variable6', 'variable7', 'variable12', this 3 variables are not that important, and models get same performance without them, so we don't need them"
   ]
  },
  {
   "cell_type": "code",
   "execution_count": 7,
   "metadata": {},
   "outputs": [],
   "source": [
    "to_drop = ['variable6', 'variable7', 'variable12','variable19']\n",
    "df = df.drop(to_drop, axis=1)"
   ]
  },
  {
   "cell_type": "markdown",
   "metadata": {},
   "source": [
    "#### take a look at our remaining variables"
   ]
  },
  {
   "cell_type": "code",
   "execution_count": 8,
   "metadata": {},
   "outputs": [
    {
     "data": {
      "text/html": [
       "<div>\n",
       "<style scoped>\n",
       "    .dataframe tbody tr th:only-of-type {\n",
       "        vertical-align: middle;\n",
       "    }\n",
       "\n",
       "    .dataframe tbody tr th {\n",
       "        vertical-align: top;\n",
       "    }\n",
       "\n",
       "    .dataframe thead th {\n",
       "        text-align: right;\n",
       "    }\n",
       "</style>\n",
       "<table border=\"1\" class=\"dataframe\">\n",
       "  <thead>\n",
       "    <tr style=\"text-align: right;\">\n",
       "      <th></th>\n",
       "      <th>variable1</th>\n",
       "      <th>variable2</th>\n",
       "      <th>variable3</th>\n",
       "      <th>variable4</th>\n",
       "      <th>variable5</th>\n",
       "      <th>variable8</th>\n",
       "      <th>variable9</th>\n",
       "      <th>variable10</th>\n",
       "      <th>variable11</th>\n",
       "      <th>variable13</th>\n",
       "      <th>variable14</th>\n",
       "      <th>variable15</th>\n",
       "      <th>variable17</th>\n",
       "      <th>variable18</th>\n",
       "      <th>classLabel</th>\n",
       "    </tr>\n",
       "  </thead>\n",
       "  <tbody>\n",
       "    <tr>\n",
       "      <th>0</th>\n",
       "      <td>a</td>\n",
       "      <td>17,92</td>\n",
       "      <td>5,4e-05</td>\n",
       "      <td>u</td>\n",
       "      <td>g</td>\n",
       "      <td>1,75</td>\n",
       "      <td>f</td>\n",
       "      <td>t</td>\n",
       "      <td>1</td>\n",
       "      <td>g</td>\n",
       "      <td>80.0</td>\n",
       "      <td>5</td>\n",
       "      <td>800000.0</td>\n",
       "      <td>t</td>\n",
       "      <td>no.</td>\n",
       "    </tr>\n",
       "    <tr>\n",
       "      <th>1</th>\n",
       "      <td>b</td>\n",
       "      <td>16,92</td>\n",
       "      <td>3,35e-05</td>\n",
       "      <td>y</td>\n",
       "      <td>p</td>\n",
       "      <td>0,29</td>\n",
       "      <td>f</td>\n",
       "      <td>f</td>\n",
       "      <td>0</td>\n",
       "      <td>s</td>\n",
       "      <td>200.0</td>\n",
       "      <td>0</td>\n",
       "      <td>2000000.0</td>\n",
       "      <td>NaN</td>\n",
       "      <td>no.</td>\n",
       "    </tr>\n",
       "    <tr>\n",
       "      <th>2</th>\n",
       "      <td>b</td>\n",
       "      <td>31,25</td>\n",
       "      <td>0,0001125</td>\n",
       "      <td>u</td>\n",
       "      <td>g</td>\n",
       "      <td>0</td>\n",
       "      <td>f</td>\n",
       "      <td>t</td>\n",
       "      <td>1</td>\n",
       "      <td>g</td>\n",
       "      <td>96.0</td>\n",
       "      <td>19</td>\n",
       "      <td>960000.0</td>\n",
       "      <td>t</td>\n",
       "      <td>no.</td>\n",
       "    </tr>\n",
       "    <tr>\n",
       "      <th>3</th>\n",
       "      <td>a</td>\n",
       "      <td>48,17</td>\n",
       "      <td>0,0001335</td>\n",
       "      <td>u</td>\n",
       "      <td>g</td>\n",
       "      <td>0,335</td>\n",
       "      <td>f</td>\n",
       "      <td>f</td>\n",
       "      <td>0</td>\n",
       "      <td>g</td>\n",
       "      <td>0.0</td>\n",
       "      <td>120</td>\n",
       "      <td>0.0</td>\n",
       "      <td>NaN</td>\n",
       "      <td>no.</td>\n",
       "    </tr>\n",
       "    <tr>\n",
       "      <th>4</th>\n",
       "      <td>b</td>\n",
       "      <td>32,33</td>\n",
       "      <td>0,00035</td>\n",
       "      <td>u</td>\n",
       "      <td>g</td>\n",
       "      <td>0,5</td>\n",
       "      <td>f</td>\n",
       "      <td>f</td>\n",
       "      <td>0</td>\n",
       "      <td>g</td>\n",
       "      <td>232.0</td>\n",
       "      <td>0</td>\n",
       "      <td>2320000.0</td>\n",
       "      <td>f</td>\n",
       "      <td>no.</td>\n",
       "    </tr>\n",
       "  </tbody>\n",
       "</table>\n",
       "</div>"
      ],
      "text/plain": [
       "  variable1 variable2  variable3 variable4 variable5 variable8 variable9  \\\n",
       "0         a     17,92    5,4e-05         u         g      1,75         f   \n",
       "1         b     16,92   3,35e-05         y         p      0,29         f   \n",
       "2         b     31,25  0,0001125         u         g         0         f   \n",
       "3         a     48,17  0,0001335         u         g     0,335         f   \n",
       "4         b     32,33    0,00035         u         g       0,5         f   \n",
       "\n",
       "  variable10  variable11 variable13  variable14  variable15  variable17  \\\n",
       "0          t           1          g        80.0           5    800000.0   \n",
       "1          f           0          s       200.0           0   2000000.0   \n",
       "2          t           1          g        96.0          19    960000.0   \n",
       "3          f           0          g         0.0         120         0.0   \n",
       "4          f           0          g       232.0           0   2320000.0   \n",
       "\n",
       "  variable18 classLabel  \n",
       "0          t        no.  \n",
       "1        NaN        no.  \n",
       "2          t        no.  \n",
       "3        NaN        no.  \n",
       "4          f        no.  "
      ]
     },
     "execution_count": 8,
     "metadata": {},
     "output_type": "execute_result"
    }
   ],
   "source": [
    "df.head()"
   ]
  },
  {
   "cell_type": "markdown",
   "metadata": {},
   "source": [
    "#### how many null values we have in each column"
   ]
  },
  {
   "cell_type": "code",
   "execution_count": 9,
   "metadata": {},
   "outputs": [
    {
     "data": {
      "text/plain": [
       "variable1       42\n",
       "variable2       42\n",
       "variable3        0\n",
       "variable4       66\n",
       "variable5       66\n",
       "variable8        0\n",
       "variable9        0\n",
       "variable10       0\n",
       "variable11       0\n",
       "variable13       0\n",
       "variable14     103\n",
       "variable15       0\n",
       "variable17     103\n",
       "variable18    2256\n",
       "classLabel       0\n",
       "dtype: int64"
      ]
     },
     "execution_count": 9,
     "metadata": {},
     "output_type": "execute_result"
    }
   ],
   "source": [
    "df.isnull().sum()"
   ]
  },
  {
   "cell_type": "markdown",
   "metadata": {},
   "source": [
    "##### because we have too many null values in some columns, let's make a new feature for each column because that benefit our model in learning"
   ]
  },
  {
   "cell_type": "code",
   "execution_count": 10,
   "metadata": {},
   "outputs": [],
   "source": [
    "for i in ['variable1', 'variable2', 'variable4', 'variable5', 'variable14', 'variable17', 'variable18']:\n",
    "    df[i+'_na'] = pd.isnull(df[i])"
   ]
  },
  {
   "cell_type": "markdown",
   "metadata": {},
   "source": [
    "#### this variables looks like a floa/int number to me but it's repesented with object, so convert it to float/int and i tried both approaches and this one give better result"
   ]
  },
  {
   "cell_type": "code",
   "execution_count": 11,
   "metadata": {},
   "outputs": [],
   "source": [
    "def rep(x):\n",
    "    return x.replace(',','.')\n",
    "df.variable8 = df.variable8.astype(str)\n",
    "df.variable8 = pd.to_numeric(df.variable8.apply(rep))\n",
    "df.variable8 = df.variable8.astype(np.float32)\n",
    "\n",
    "def rep(x):\n",
    "    x = x.replace('nan','0')\n",
    "    return x\n",
    "df.variable17 = df.variable17.astype(str)\n",
    "df.variable17 = pd.to_numeric(df.variable17.apply(rep), downcast='integer')\n",
    "\n",
    "def rep(x):\n",
    "    x = x.replace(',','.')\n",
    "    x = x.replace('nan','0')\n",
    "    return x\n",
    "df.variable2 = df.variable2.astype(str)\n",
    "df.variable2 = pd.to_numeric(df.variable2.apply(rep))\n",
    "\n",
    "def rep(x):\n",
    "    return x.replace(',','.')\n",
    "df.variable3 = df.variable3.astype(str)\n",
    "df.variable3 = pd.to_numeric(df.variable3.apply(rep))"
   ]
  },
  {
   "cell_type": "markdown",
   "metadata": {},
   "source": [
    "#### check type of each column and number of unique values in each column to decide which one to use one-hot-encding on them or label encoding"
   ]
  },
  {
   "cell_type": "code",
   "execution_count": 12,
   "metadata": {},
   "outputs": [
    {
     "data": {
      "text/plain": [
       "variable1         object\n",
       "variable2        float64\n",
       "variable3        float64\n",
       "variable4         object\n",
       "variable5         object\n",
       "variable8        float32\n",
       "variable9         object\n",
       "variable10        object\n",
       "variable11         int64\n",
       "variable13        object\n",
       "variable14       float64\n",
       "variable15         int64\n",
       "variable17         int32\n",
       "variable18        object\n",
       "classLabel        object\n",
       "variable1_na        bool\n",
       "variable2_na        bool\n",
       "variable4_na        bool\n",
       "variable5_na        bool\n",
       "variable14_na       bool\n",
       "variable17_na       bool\n",
       "variable18_na       bool\n",
       "dtype: object"
      ]
     },
     "execution_count": 12,
     "metadata": {},
     "output_type": "execute_result"
    }
   ],
   "source": [
    "df.dtypes"
   ]
  },
  {
   "cell_type": "code",
   "execution_count": 13,
   "metadata": {},
   "outputs": [
    {
     "data": {
      "text/plain": [
       "variable1          2\n",
       "variable2        350\n",
       "variable3        215\n",
       "variable4          3\n",
       "variable5          3\n",
       "variable8        132\n",
       "variable9          2\n",
       "variable10         2\n",
       "variable11        23\n",
       "variable13         3\n",
       "variable14       170\n",
       "variable15       240\n",
       "variable17       170\n",
       "variable18         2\n",
       "classLabel         2\n",
       "variable1_na       2\n",
       "variable2_na       2\n",
       "variable4_na       2\n",
       "variable5_na       2\n",
       "variable14_na      2\n",
       "variable17_na      2\n",
       "variable18_na      2\n",
       "dtype: int64"
      ]
     },
     "execution_count": 13,
     "metadata": {},
     "output_type": "execute_result"
    }
   ],
   "source": [
    "df.nunique()"
   ]
  },
  {
   "cell_type": "markdown",
   "metadata": {},
   "source": [
    "#### since these variables have <= 3 unique values, it's better to use one-hot-encoding on them, because using label encoding may not capture some relations so it's better to use hot-encoding on features with small number of variables"
   ]
  },
  {
   "cell_type": "code",
   "execution_count": 14,
   "metadata": {},
   "outputs": [],
   "source": [
    "to_binary = ['variable9', 'variable10', 'classLabel']"
   ]
  },
  {
   "cell_type": "code",
   "execution_count": 15,
   "metadata": {},
   "outputs": [
    {
     "name": "stdout",
     "output_type": "stream",
     "text": [
      "['f' 't']\n",
      "['t' 'f']\n",
      "['no.' 'yes.']\n"
     ]
    }
   ],
   "source": [
    "#check values\n",
    "for i in to_binary:\n",
    "    print(df[i].unique())"
   ]
  },
  {
   "cell_type": "code",
   "execution_count": 16,
   "metadata": {
    "scrolled": true
   },
   "outputs": [],
   "source": [
    "#encode binary features with 0 and 1\n",
    "for i in to_binary:\n",
    "    df[i] = pd.factorize(df[i])[0]\n",
    "    df[i] = df[i].astype(np.uint8)"
   ]
  },
  {
   "cell_type": "code",
   "execution_count": 17,
   "metadata": {},
   "outputs": [
    {
     "data": {
      "text/plain": [
       "variable1         object\n",
       "variable2        float64\n",
       "variable3        float64\n",
       "variable4         object\n",
       "variable5         object\n",
       "variable8        float32\n",
       "variable9          uint8\n",
       "variable10         uint8\n",
       "variable11         int64\n",
       "variable13        object\n",
       "variable14       float64\n",
       "variable15         int64\n",
       "variable17         int32\n",
       "variable18        object\n",
       "classLabel         uint8\n",
       "variable1_na        bool\n",
       "variable2_na        bool\n",
       "variable4_na        bool\n",
       "variable5_na        bool\n",
       "variable14_na       bool\n",
       "variable17_na       bool\n",
       "variable18_na       bool\n",
       "dtype: object"
      ]
     },
     "execution_count": 17,
     "metadata": {},
     "output_type": "execute_result"
    }
   ],
   "source": [
    "#let's check our features types again\n",
    "df.dtypes"
   ]
  },
  {
   "cell_type": "code",
   "execution_count": 18,
   "metadata": {},
   "outputs": [],
   "source": [
    "#downcast some columns\n",
    "df.variable11 = df.variable11.astype(np.uint8)\n",
    "df.variable14 = df.variable14.astype(np.float16)\n",
    "df.variable15 = df.variable15.astype(np.uint32)"
   ]
  },
  {
   "cell_type": "markdown",
   "metadata": {},
   "source": [
    "#### use one-hot-encoding on those features"
   ]
  },
  {
   "cell_type": "code",
   "execution_count": 19,
   "metadata": {},
   "outputs": [],
   "source": [
    "one_hot = ['variable1', 'variable4', 'variable5', 'variable13', 'variable18']"
   ]
  },
  {
   "cell_type": "code",
   "execution_count": 20,
   "metadata": {},
   "outputs": [
    {
     "name": "stdout",
     "output_type": "stream",
     "text": [
      "variable1\n",
      "variable4\n",
      "variable5\n",
      "variable13\n",
      "variable18\n"
     ]
    }
   ],
   "source": [
    "for i in one_hot:\n",
    "    print(i)\n",
    "    one_h = pd.get_dummies(df[i], prefix= i)\n",
    "    df = df.drop(i,axis=1)\n",
    "    df = pd.concat([df, one_h], axis=1, sort=False)"
   ]
  },
  {
   "cell_type": "code",
   "execution_count": 21,
   "metadata": {},
   "outputs": [],
   "source": [
    "#fill any na value\n",
    "df.fillna(-999, inplace=True)"
   ]
  },
  {
   "cell_type": "markdown",
   "metadata": {},
   "source": [
    "#### check that our features are ready for training and split them again to train/validation and save them"
   ]
  },
  {
   "cell_type": "code",
   "execution_count": 22,
   "metadata": {},
   "outputs": [
    {
     "data": {
      "text/plain": [
       "variable2        float64\n",
       "variable3        float64\n",
       "variable8        float32\n",
       "variable9          uint8\n",
       "variable10         uint8\n",
       "variable11         uint8\n",
       "variable14       float16\n",
       "variable15        uint32\n",
       "variable17         int32\n",
       "classLabel         uint8\n",
       "variable1_na        bool\n",
       "variable2_na        bool\n",
       "variable4_na        bool\n",
       "variable5_na        bool\n",
       "variable14_na       bool\n",
       "variable17_na       bool\n",
       "variable18_na       bool\n",
       "variable1_a        uint8\n",
       "variable1_b        uint8\n",
       "variable4_l        uint8\n",
       "variable4_u        uint8\n",
       "variable4_y        uint8\n",
       "variable5_g        uint8\n",
       "variable5_gg       uint8\n",
       "variable5_p        uint8\n",
       "variable13_g       uint8\n",
       "variable13_p       uint8\n",
       "variable13_s       uint8\n",
       "variable18_f       uint8\n",
       "variable18_t       uint8\n",
       "dtype: object"
      ]
     },
     "execution_count": 22,
     "metadata": {},
     "output_type": "execute_result"
    }
   ],
   "source": [
    "df.dtypes"
   ]
  },
  {
   "cell_type": "code",
   "execution_count": 23,
   "metadata": {},
   "outputs": [],
   "source": [
    "df_tr = df[:3700]\n",
    "df_va = df[3700:]"
   ]
  },
  {
   "cell_type": "code",
   "execution_count": 24,
   "metadata": {},
   "outputs": [
    {
     "name": "stdout",
     "output_type": "stream",
     "text": [
      "(3700, 30) (200, 30)\n"
     ]
    }
   ],
   "source": [
    "print(df_tr.shape,df_va.shape)"
   ]
  },
  {
   "cell_type": "code",
   "execution_count": 25,
   "metadata": {},
   "outputs": [],
   "source": [
    "df_tr.to_csv('df_tr.csv', index=False)\n",
    "df_va.to_csv('df_va.csv', index=False)"
   ]
  }
 ],
 "metadata": {
  "kernelspec": {
   "display_name": "Python 3",
   "language": "python",
   "name": "python3"
  },
  "language_info": {
   "codemirror_mode": {
    "name": "ipython",
    "version": 3
   },
   "file_extension": ".py",
   "mimetype": "text/x-python",
   "name": "python",
   "nbconvert_exporter": "python",
   "pygments_lexer": "ipython3",
   "version": "3.6.8"
  }
 },
 "nbformat": 4,
 "nbformat_minor": 2
}
